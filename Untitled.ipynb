{
 "cells": [
  {
   "cell_type": "code",
   "execution_count": null,
   "metadata": {
    "autoscroll": false,
    "collapsed": false,
    "ein.hycell": false,
    "ein.tags": "worksheet-0",
    "slideshow": {
     "slide_type": "-"
    }
   },
   "outputs": [],
   "source": [
    "import cv2\n",
    "import numpy as np\n",
    "from keras.models import load_model\n",
    "from skimage import io\n",
    "from matplotlib import pyplot as plt\n",
    "import matplotlib.patches as patches"
   ]
  },
  {
   "cell_type": "code",
   "execution_count": null,
   "metadata": {
    "autoscroll": false,
    "collapsed": false,
    "ein.hycell": false,
    "ein.tags": "worksheet-0",
    "slideshow": {
     "slide_type": "-"
    }
   },
   "outputs": [],
   "source": [
    "image = cv2.imread('pic.png')\n",
    "plt.figure(figsize=(22, 12))\n",
    "plt.imshow(image)"
   ]
  },
  {
   "cell_type": "code",
   "execution_count": null,
   "metadata": {
    "autoscroll": false,
    "collapsed": false,
    "ein.hycell": false,
    "ein.tags": "worksheet-0",
    "slideshow": {
     "slide_type": "-"
    }
   },
   "outputs": [],
   "source": [
    "image = cv2.resize(image, (1000, 1000))\n",
    "plt.figure(figsize=(22, 12))\n",
    "plt.imshow(image)"
   ]
  },
  {
   "cell_type": "code",
   "execution_count": null,
   "metadata": {
    "autoscroll": false,
    "collapsed": false,
    "ein.hycell": false,
    "ein.tags": "worksheet-0",
    "slideshow": {
     "slide_type": "-"
    }
   },
   "outputs": [],
   "source": [
    "y = 0\n",
    "h = image.shape[0]\n",
    "w = image.shape[1]\n",
    "x = int(w * 0.35)\n",
    "crop = image[y:y + h, x:x + w]\n",
    "img_grey = cv2.cvtColor(crop, cv2.COLOR_BGR2GRAY)\n",
    "plt.figure(figsize=(22, 12))\n",
    "plt.imshow(img_grey)"
   ]
  },
  {
   "cell_type": "code",
   "execution_count": null,
   "metadata": {
    "autoscroll": false,
    "collapsed": false,
    "ein.hycell": false,
    "ein.tags": "worksheet-0",
    "slideshow": {
     "slide_type": "-"
    }
   },
   "outputs": [],
   "source": [
    "(thresh, im_bw) = cv2.threshold(img_grey, 128, 255, cv2.THRESH_BINARY | cv2.THRESH_OTSU)\n",
    "plt.figure(figsize=(22, 12))\n",
    "plt.imshow(im_bw)"
   ]
  },
  {
   "cell_type": "code",
   "execution_count": null,
   "metadata": {
    "autoscroll": false,
    "collapsed": false,
    "ein.hycell": false,
    "ein.tags": "worksheet-0",
    "slideshow": {
     "slide_type": "-"
    }
   },
   "outputs": [],
   "source": [
    "thresh = 127\n",
    "ret, cropped_threshold = cv2.threshold(im_bw, 10, 255, cv2.THRESH_BINARY_INV)\n",
    "kernel = np.ones((2, 2), np.uint8)\n",
    "erosion = cv2.erode(cropped_threshold, kernel, iterations=1)\n",
    "closing = cv2.morphologyEx(erosion, cv2.MORPH_CLOSE, kernel)\n",
    "plt.figure(figsize=(22, 12))\n",
    "plt.imshow(closing)"
   ]
  },
  {
   "cell_type": "code",
   "execution_count": null,
   "metadata": {
    "autoscroll": false,
    "collapsed": false,
    "ein.hycell": false,
    "ein.tags": "worksheet-0",
    "slideshow": {
     "slide_type": "-"
    }
   },
   "outputs": [],
   "source": [
    "def get_digits(contours, hierarchy):\n",
    "    hierarchy = hierarchy[0]\n",
    "    bounding_rectangles = [cv2.boundingRect(ctr) for ctr in contours]\n",
    "    final_bounding_rectangles = []\n",
    "\n",
    "    u, indices = np.unique(hierarchy[:, -1], return_inverse=True)\n",
    "    most_common_heirarchy = u[np.argmax(np.bincount(indices))]\n",
    "\n",
    "    for r, hr in zip(bounding_rectangles, hierarchy):\n",
    "        x, y, w, h = r\n",
    "\n",
    "        if ((w * h) > 1400) and (10 <= w <= 330) \\\n",
    "           and (60 <= h <= 280) and hr[3] == most_common_heirarchy:\n",
    "            final_bounding_rectangles.append(r)\n",
    "\n",
    "    return final_bounding_rectangles\n",
    "\n",
    "def get_roi(result):\n",
    "    kernel = np.ones((3, 3), np.uint8)\n",
    "    ret, thresh = cv2.threshold(result, 127, 255, 0)\n",
    "    thresh = cv2.erode(thresh, kernel, iterations=1)\n",
    "    contours, hierarchy = cv2.findContours(thresh, cv2.RETR_CCOMP, cv2.CHAIN_APPROX_SIMPLE)\n",
    "    digits_rectangles = get_digits(contours, hierarchy)\n",
    "    return (digits_rectangles)\n",
    "\n",
    "roi = get_roi(closing)"
   ]
  },
  {
   "cell_type": "code",
   "execution_count": null,
   "metadata": {
    "autoscroll": false,
    "collapsed": false,
    "ein.hycell": false,
    "ein.tags": "worksheet-0",
    "slideshow": {
     "slide_type": "-"
    }
   },
   "outputs": [],
   "source": [
    "print(roi)"
   ]
  },
  {
   "cell_type": "code",
   "execution_count": null,
   "metadata": {
    "autoscroll": false,
    "collapsed": false,
    "ein.hycell": false,
    "ein.tags": "worksheet-0",
    "slideshow": {
     "slide_type": "-"
    }
   },
   "outputs": [],
   "source": [
    "fig, ax = plt.subplots(1, figsize=(22, 12))\n",
    "ax.imshow(closing)\n",
    "for a, b, c, d in roi:\n",
    "    rect = patches.Rectangle((a, b), c, d, linewidth=3, edgecolor='b', facecolor='none')\n",
    "    ax.add_patch(rect)"
   ]
  },
  {
   "cell_type": "code",
   "execution_count": null,
   "metadata": {
    "autoscroll": false,
    "collapsed": false,
    "ein.hycell": false,
    "ein.tags": "worksheet-0",
    "slideshow": {
     "slide_type": "-"
    }
   },
   "outputs": [],
   "source": [
    "from os import path\n",
    "model = load_model(path.join('processor', 'my_model.h5'))\n",
    "model._make_predict_function()\n",
    "\n",
    "def digit_recognition(crop_image, roi):\n",
    "    img = cv2.resize(crop_image, (28, 28))\n",
    "    img = img[np.newaxis]\n",
    "    img = img.reshape(img.shape[0], 28, 28, 1)\n",
    "    return (np.argmax(model.predict(img)))"
   ]
  },
  {
   "cell_type": "code",
   "execution_count": null,
   "metadata": {
    "autoscroll": false,
    "collapsed": false,
    "ein.hycell": false,
    "ein.tags": "worksheet-0",
    "slideshow": {
     "slide_type": "-"
    }
   },
   "outputs": [],
   "source": [
    "def crop_images(img, roi):\n",
    "    y = roi[1]\n",
    "    x = roi[0]\n",
    "    h = roi[1] + roi[3]\n",
    "    w = roi[0] + roi[2]\n",
    "    crop_img = img[y:h, x:w]\n",
    "    return crop_img\n",
    "\n",
    "roi = sorted(roi, key=lambda x: int(x[1]))\n",
    "\n",
    "fig, ax = plt.subplots(4, 4, sharex='col', sharey='row', figsize=(8, 8))\n",
    "\n",
    "for i, lst in enumerate(roi[:16]):\n",
    "    crop_image1 = crop_images(closing, lst)\n",
    "    ax[i // 4, i % 4].imshow(crop_image1)\n",
    "\n",
    "digits = []\n",
    "for r in roi:\n",
    "    crop_image1 = crop_images(closing, r)\n",
    "    digits.append(digit_recognition(crop_image1, r))\n",
    "\n",
    "for row in list(zip(*[iter(digits[:16])] * 4)):\n",
    "    print(row)"
   ]
  }
 ],
 "metadata": {
  "kernelspec": {
   "display_name": "Python 3",
   "name": "python3"
  },
  "name": "Untitled.ipynb"
 },
 "nbformat": 4,
 "nbformat_minor": 2
}
